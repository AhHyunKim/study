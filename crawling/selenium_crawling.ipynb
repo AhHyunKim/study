{
 "cells": [
  {
   "cell_type": "markdown",
   "id": "asian-annotation",
   "metadata": {},
   "source": [
    "# 웨더아이 크롤링\n",
    "* 웨더아이: 과거 날씨를 볼 수 있는 사이트 (https://www.weatheri.co.kr/bygone/bygone01.php)\n",
    "* https://idnstory.atlassian.net/wiki/spaces/~327709842/pages/2418540549\n",
    "## 설정 필요\n",
    "* 지점 선택: def make_jijum_table 보고 원하는 지점 선택해야함\n",
    "* 기간 설정"
   ]
  },
  {
   "cell_type": "code",
   "execution_count": 2,
   "id": "hired-philip",
   "metadata": {},
   "outputs": [],
   "source": [
    "from datetime import datetime, timedelta, date\n",
    "import pandas as pd\n",
    "\n",
    "import urllib\n",
    "from bs4 import BeautifulSoup\n",
    "\n",
    "from selenium import webdriver\n",
    "from selenium.webdriver.common.keys import Keys\n",
    "from selenium.webdriver.support import expected_conditions as EC\n",
    "from selenium.webdriver.support.select import Select\n",
    "from selenium.webdriver.support.ui import WebDriverWait\n",
    "from selenium.webdriver.common.by import By\n",
    "\n",
    "from time import sleep"
   ]
  },
  {
   "cell_type": "code",
   "execution_count": 16,
   "id": "lesbian-wages",
   "metadata": {},
   "outputs": [
    {
     "name": "stderr",
     "output_type": "stream",
     "text": [
      "/home/ahkim/env/IM_DA_v1/lib/python3.6/site-packages/selenium/webdriver/phantomjs/webdriver.py:49: UserWarning: Selenium support for PhantomJS has been deprecated, please use headless versions of Chrome or Firefox instead\n",
      "  warnings.warn('Selenium support for PhantomJS has been deprecated, please use headless '\n"
     ]
    }
   ],
   "source": [
    "browser2 = webdriver.PhantomJS()"
   ]
  },
  {
   "cell_type": "code",
   "execution_count": 17,
   "id": "specific-veteran",
   "metadata": {},
   "outputs": [],
   "source": [
    "browser2.get('https://www.weatheri.co.kr/bygone/bygone01.php')"
   ]
  },
  {
   "cell_type": "code",
   "execution_count": null,
   "id": "stylish-eating",
   "metadata": {},
   "outputs": [],
   "source": []
  },
  {
   "cell_type": "code",
   "execution_count": null,
   "id": "matched-journal",
   "metadata": {},
   "outputs": [],
   "source": []
  },
  {
   "cell_type": "code",
   "execution_count": null,
   "id": "toxic-firewall",
   "metadata": {},
   "outputs": [],
   "source": []
  },
  {
   "cell_type": "code",
   "execution_count": null,
   "id": "tropical-chick",
   "metadata": {},
   "outputs": [],
   "source": []
  },
  {
   "cell_type": "code",
   "execution_count": null,
   "id": "agreed-tuesday",
   "metadata": {},
   "outputs": [],
   "source": []
  },
  {
   "cell_type": "code",
   "execution_count": 3,
   "id": "documented-pledge",
   "metadata": {},
   "outputs": [],
   "source": [
    "def make_jijum_table():\n",
    "    url2 = 'https://www.weatheri.co.kr/bygone/bygone01.php'\n",
    "\n",
    "    # get html\n",
    "    browser2 = webdriver.PhantomJS()\n",
    "    browser2.get(url2)\n",
    "\n",
    "    select_location = browser2.find_element_by_name('jijum_id')\n",
    "    options = select_location.find_elements_by_tag_name(\"option\")\n",
    "\n",
    "    jijum_table = pd.DataFrame(columns=['id', 'name'])\n",
    "    for element in options:\n",
    "        location_id = element.get_attribute(\"value\")\n",
    "        location_name = element.text\n",
    "        jijum_info = pd.Series([location_id, location_name], index=['id', 'name'])\n",
    "        jijum_table = jijum_table.append(jijum_info, ignore_index=True)\n",
    "    return jijum_table"
   ]
  },
  {
   "cell_type": "code",
   "execution_count": 4,
   "id": "vital-wright",
   "metadata": {},
   "outputs": [],
   "source": [
    "def make_dt_info(date):\n",
    "    \n",
    "    year = date.year\n",
    "    month = date.month\n",
    "    day = date.day\n",
    "    \n",
    "    return [year, month, day]"
   ]
  },
  {
   "cell_type": "code",
   "execution_count": 5,
   "id": "super-building",
   "metadata": {},
   "outputs": [],
   "source": [
    "\n",
    "def get_data(s_dt_info, e_dt_info, location_id):\n",
    "\n",
    "    url = 'https://www.weatheri.co.kr/bygone/pastDB_tmp.php?jijum_id={}&start={}-{}-{}&end={}-{}-{}'.\\\n",
    "    format(location_id,\n",
    "           s_dt_info[0], s_dt_info[1], s_dt_info[2], \n",
    "           e_dt_info[0],  e_dt_info[1],  e_dt_info[2]\n",
    "           )\n",
    "\n",
    "    # get html\n",
    "    browser = webdriver.PhantomJS()\n",
    "    browser.get(url)\n",
    "\n",
    "    table = browser.find_elements_by_tag_name('table')[2]\n",
    "\n",
    "    data_list = []\n",
    "    # table = browser.find_elements_by_tag_name('table')[2]\n",
    "    tbody = table.find_element_by_tag_name(\"tbody\")\n",
    "    for i in range(1, len(tbody.find_elements_by_tag_name(\"tr\"))):\n",
    "        rows = tbody.find_elements_by_tag_name(\"tr\")[i]\n",
    "        body= rows.find_elements_by_tag_name(\"td\")\n",
    "        row_data = []\n",
    "        for index, value in enumerate(body):\n",
    "            value_data = value.text\n",
    "            row_data.append(value_data)\n",
    "        data_list.append(row_data)\n",
    "\n",
    "    df = pd.DataFrame(data_list)\n",
    "\n",
    "    header = df.iloc[0]\n",
    "    df = df[1:]\n",
    "\n",
    "    df.rename(columns=header, inplace=True)\n",
    "    df['날짜'] = df['날짜'].str.replace('\\n', repl=r'')\n",
    "    df['날짜'] = df['날짜'].str.split(' ').str[0]\n",
    "    df['날짜'] = pd.to_datetime(df['날짜'], format='%Y년%m월%d일')\n",
    "    \n",
    "    return df"
   ]
  },
  {
   "cell_type": "code",
   "execution_count": 6,
   "id": "authentic-bradley",
   "metadata": {},
   "outputs": [
    {
     "name": "stderr",
     "output_type": "stream",
     "text": [
      "/home/ahkim/env/IM_DA_v1/lib/python3.6/site-packages/selenium/webdriver/phantomjs/webdriver.py:49: UserWarning: Selenium support for PhantomJS has been deprecated, please use headless versions of Chrome or Firefox instead\n",
      "  warnings.warn('Selenium support for PhantomJS has been deprecated, please use headless '\n"
     ]
    },
    {
     "name": "stdout",
     "output_type": "stream",
     "text": [
      "108\n"
     ]
    }
   ],
   "source": [
    "jijum_table = make_jijum_table()\n",
    "loc_id = int(jijum_table[jijum_table['name'] == '서울']['id'].iloc[0])\n",
    "print(loc_id)"
   ]
  },
  {
   "cell_type": "code",
   "execution_count": 7,
   "id": "junior-nepal",
   "metadata": {},
   "outputs": [],
   "source": [
    "dt_index = pd.date_range(start='20200101', periods=3, freq='MS')\n"
   ]
  },
  {
   "cell_type": "code",
   "execution_count": 8,
   "id": "continuous-metropolitan",
   "metadata": {},
   "outputs": [],
   "source": [
    "start_dt_info = make_dt_info(dt_index[0])\n",
    "end_dt_info = make_dt_info(dt_index[-1])"
   ]
  },
  {
   "cell_type": "code",
   "execution_count": 9,
   "id": "affected-newman",
   "metadata": {},
   "outputs": [
    {
     "name": "stdout",
     "output_type": "stream",
     "text": [
      "[2020, 1, 1]\n"
     ]
    },
    {
     "name": "stderr",
     "output_type": "stream",
     "text": [
      "/home/ahkim/env/IM_DA_v1/lib/python3.6/site-packages/selenium/webdriver/phantomjs/webdriver.py:49: UserWarning: Selenium support for PhantomJS has been deprecated, please use headless versions of Chrome or Firefox instead\n",
      "  warnings.warn('Selenium support for PhantomJS has been deprecated, please use headless '\n"
     ]
    },
    {
     "name": "stdout",
     "output_type": "stream",
     "text": [
      "[2020, 2, 1]\n"
     ]
    },
    {
     "name": "stderr",
     "output_type": "stream",
     "text": [
      "/home/ahkim/env/IM_DA_v1/lib/python3.6/site-packages/selenium/webdriver/phantomjs/webdriver.py:49: UserWarning: Selenium support for PhantomJS has been deprecated, please use headless versions of Chrome or Firefox instead\n",
      "  warnings.warn('Selenium support for PhantomJS has been deprecated, please use headless '\n"
     ]
    },
    {
     "name": "stdout",
     "output_type": "stream",
     "text": [
      "[2020, 3, 1]\n"
     ]
    },
    {
     "name": "stderr",
     "output_type": "stream",
     "text": [
      "/home/ahkim/env/IM_DA_v1/lib/python3.6/site-packages/selenium/webdriver/phantomjs/webdriver.py:49: UserWarning: Selenium support for PhantomJS has been deprecated, please use headless versions of Chrome or Firefox instead\n",
      "  warnings.warn('Selenium support for PhantomJS has been deprecated, please use headless '\n"
     ]
    }
   ],
   "source": [
    "wt_data = pd.DataFrame()\n",
    "for i in range(0, len(dt_index)):\n",
    "    start_dt_info = make_dt_info(dt_index[i])\n",
    "    print(start_dt_info)\n",
    "    monthly_wt_data = get_data(start_dt_info, end_dt_info, loc_id)\n",
    "    wt_data = wt_data.append(monthly_wt_data)"
   ]
  },
  {
   "cell_type": "code",
   "execution_count": 10,
   "id": "convertible-sacramento",
   "metadata": {},
   "outputs": [
    {
     "data": {
      "text/html": [
       "<div>\n",
       "<style scoped>\n",
       "    .dataframe tbody tr th:only-of-type {\n",
       "        vertical-align: middle;\n",
       "    }\n",
       "\n",
       "    .dataframe tbody tr th {\n",
       "        vertical-align: top;\n",
       "    }\n",
       "\n",
       "    .dataframe thead th {\n",
       "        text-align: right;\n",
       "    }\n",
       "</style>\n",
       "<table border=\"1\" class=\"dataframe\">\n",
       "  <thead>\n",
       "    <tr style=\"text-align: right;\">\n",
       "      <th></th>\n",
       "      <th>날짜</th>\n",
       "      <th>평균\n",
       "기온</th>\n",
       "      <th>최고\n",
       "기온</th>\n",
       "      <th>최저\n",
       "기온</th>\n",
       "      <th>강수량(mm)</th>\n",
       "      <th>신적설(cm)</th>\n",
       "      <th>평균\n",
       "풍속(m/s)</th>\n",
       "      <th>평균\n",
       "습도\n",
       "(%)</th>\n",
       "      <th>운량(1/10)</th>\n",
       "      <th>일조\n",
       "시간\n",
       "(Hr)</th>\n",
       "      <th>날씨</th>\n",
       "    </tr>\n",
       "  </thead>\n",
       "  <tbody>\n",
       "    <tr>\n",
       "      <th>1</th>\n",
       "      <td>2020-01-01</td>\n",
       "      <td>-2.2</td>\n",
       "      <td>0.3</td>\n",
       "      <td>-6.5</td>\n",
       "      <td>0.1</td>\n",
       "      <td>0.0</td>\n",
       "      <td>1.2</td>\n",
       "      <td>64</td>\n",
       "      <td>8.9</td>\n",
       "      <td>0.8</td>\n",
       "      <td>흐림/눈/안개</td>\n",
       "    </tr>\n",
       "    <tr>\n",
       "      <th>2</th>\n",
       "      <td>2020-01-02</td>\n",
       "      <td>1.0</td>\n",
       "      <td>3.8</td>\n",
       "      <td>-0.7</td>\n",
       "      <td>-</td>\n",
       "      <td>-</td>\n",
       "      <td>1.9</td>\n",
       "      <td>65</td>\n",
       "      <td>7.9</td>\n",
       "      <td>0.0</td>\n",
       "      <td>구름많음/안개</td>\n",
       "    </tr>\n",
       "    <tr>\n",
       "      <th>3</th>\n",
       "      <td>2020-01-03</td>\n",
       "      <td>-0.1</td>\n",
       "      <td>4.6</td>\n",
       "      <td>-3.4</td>\n",
       "      <td>-</td>\n",
       "      <td>-</td>\n",
       "      <td>1.8</td>\n",
       "      <td>57</td>\n",
       "      <td>0.0</td>\n",
       "      <td>8.8</td>\n",
       "      <td>맑음/안개</td>\n",
       "    </tr>\n",
       "    <tr>\n",
       "      <th>4</th>\n",
       "      <td>2020-01-04</td>\n",
       "      <td>1.1</td>\n",
       "      <td>6.1</td>\n",
       "      <td>-2.8</td>\n",
       "      <td>-</td>\n",
       "      <td>-</td>\n",
       "      <td>1.9</td>\n",
       "      <td>51</td>\n",
       "      <td>2.1</td>\n",
       "      <td>7.9</td>\n",
       "      <td>구름조금/안개</td>\n",
       "    </tr>\n",
       "    <tr>\n",
       "      <th>5</th>\n",
       "      <td>2020-01-05</td>\n",
       "      <td>1.3</td>\n",
       "      <td>6.6</td>\n",
       "      <td>-3.2</td>\n",
       "      <td>-</td>\n",
       "      <td>-</td>\n",
       "      <td>1.1</td>\n",
       "      <td>46</td>\n",
       "      <td>3.9</td>\n",
       "      <td>7.1</td>\n",
       "      <td>구름조금/안개</td>\n",
       "    </tr>\n",
       "  </tbody>\n",
       "</table>\n",
       "</div>"
      ],
      "text/plain": [
       "          날짜 평균\\n기온 최고\\n기온 최저\\n기온 강수량(mm) 신적설(cm) 평균\\n풍속(m/s) 평균\\n습도\\n(%)  \\\n",
       "1 2020-01-01   -2.2    0.3   -6.5     0.1     0.0         1.2          64   \n",
       "2 2020-01-02    1.0    3.8   -0.7       -       -         1.9          65   \n",
       "3 2020-01-03   -0.1    4.6   -3.4       -       -         1.8          57   \n",
       "4 2020-01-04    1.1    6.1   -2.8       -       -         1.9          51   \n",
       "5 2020-01-05    1.3    6.6   -3.2       -       -         1.1          46   \n",
       "\n",
       "  운량(1/10) 일조\\n시간\\n(Hr)       날씨  \n",
       "1      8.9          0.8  흐림/눈/안개  \n",
       "2      7.9          0.0  구름많음/안개  \n",
       "3      0.0          8.8    맑음/안개  \n",
       "4      2.1          7.9  구름조금/안개  \n",
       "5      3.9          7.1  구름조금/안개  "
      ]
     },
     "execution_count": 10,
     "metadata": {},
     "output_type": "execute_result"
    }
   ],
   "source": [
    "wt_data.head()\n"
   ]
  },
  {
   "cell_type": "code",
   "execution_count": null,
   "id": "operating-graphic",
   "metadata": {},
   "outputs": [],
   "source": []
  },
  {
   "cell_type": "code",
   "execution_count": 11,
   "id": "passing-lotus",
   "metadata": {},
   "outputs": [
    {
     "name": "stderr",
     "output_type": "stream",
     "text": [
      "/home/ahkim/env/IM_DA_v1/lib/python3.6/site-packages/selenium/webdriver/phantomjs/webdriver.py:49: UserWarning: Selenium support for PhantomJS has been deprecated, please use headless versions of Chrome or Firefox instead\n",
      "  warnings.warn('Selenium support for PhantomJS has been deprecated, please use headless '\n"
     ]
    }
   ],
   "source": [
    "\n",
    "url2 = 'https://www.weatheri.co.kr/bygone/bygone01.php'\n",
    "\n",
    "# get html\n",
    "browser2 = webdriver.PhantomJS()\n",
    "browser2.get(url2)\n",
    "\n",
    "select_location = browser2.find_element_by_name('jijum_id')\n",
    "options = select_location.find_elements_by_tag_name(\"option\")\n",
    "\n",
    "jijum_table = pd.DataFrame(columns=['id', 'name'])\n",
    "for element in options:\n",
    "    location_id = element.get_attribute(\"value\")\n",
    "    location_name = element.text\n",
    "    jijum_info = pd.Series([location_id, location_name], index=['id', 'name'])\n",
    "    jijum_table = jijum_table.append(jijum_info, ignore_index=True)"
   ]
  },
  {
   "cell_type": "code",
   "execution_count": 12,
   "id": "fleet-geology",
   "metadata": {},
   "outputs": [
    {
     "data": {
      "text/html": [
       "<div>\n",
       "<style scoped>\n",
       "    .dataframe tbody tr th:only-of-type {\n",
       "        vertical-align: middle;\n",
       "    }\n",
       "\n",
       "    .dataframe tbody tr th {\n",
       "        vertical-align: top;\n",
       "    }\n",
       "\n",
       "    .dataframe thead th {\n",
       "        text-align: right;\n",
       "    }\n",
       "</style>\n",
       "<table border=\"1\" class=\"dataframe\">\n",
       "  <thead>\n",
       "    <tr style=\"text-align: right;\">\n",
       "      <th></th>\n",
       "      <th>id</th>\n",
       "      <th>name</th>\n",
       "    </tr>\n",
       "  </thead>\n",
       "  <tbody>\n",
       "    <tr>\n",
       "      <th>0</th>\n",
       "      <td>105</td>\n",
       "      <td>강릉</td>\n",
       "    </tr>\n",
       "    <tr>\n",
       "      <th>1</th>\n",
       "      <td>259</td>\n",
       "      <td>강진군</td>\n",
       "    </tr>\n",
       "    <tr>\n",
       "      <th>2</th>\n",
       "      <td>201</td>\n",
       "      <td>강화</td>\n",
       "    </tr>\n",
       "    <tr>\n",
       "      <th>3</th>\n",
       "      <td>294</td>\n",
       "      <td>거제</td>\n",
       "    </tr>\n",
       "    <tr>\n",
       "      <th>4</th>\n",
       "      <td>284</td>\n",
       "      <td>거창</td>\n",
       "    </tr>\n",
       "  </tbody>\n",
       "</table>\n",
       "</div>"
      ],
      "text/plain": [
       "    id name\n",
       "0  105   강릉\n",
       "1  259  강진군\n",
       "2  201   강화\n",
       "3  294   거제\n",
       "4  284   거창"
      ]
     },
     "execution_count": 12,
     "metadata": {},
     "output_type": "execute_result"
    }
   ],
   "source": [
    "jijum_table.head()\n"
   ]
  },
  {
   "cell_type": "code",
   "execution_count": null,
   "id": "maritime-dakota",
   "metadata": {},
   "outputs": [],
   "source": []
  },
  {
   "cell_type": "code",
   "execution_count": 13,
   "id": "toxic-metabolism",
   "metadata": {},
   "outputs": [
    {
     "name": "stderr",
     "output_type": "stream",
     "text": [
      "/home/ahkim/env/IM_DA_v1/lib/python3.6/site-packages/selenium/webdriver/phantomjs/webdriver.py:49: UserWarning: Selenium support for PhantomJS has been deprecated, please use headless versions of Chrome or Firefox instead\n",
      "  warnings.warn('Selenium support for PhantomJS has been deprecated, please use headless '\n"
     ]
    }
   ],
   "source": [
    "url = 'https://www.weatheri.co.kr/bygone/pastDB_tmp.php?jijum_id=108&start=2021-03-01&end=2021-05-31'\n",
    "\n",
    "# get html\n",
    "browser = webdriver.PhantomJS()\n",
    "browser.get(url)\n",
    "\n",
    "table = browser.find_elements_by_tag_name('table')[2]\n",
    "\n",
    "data_list = []\n",
    "# table = browser.find_elements_by_tag_name('table')[2]\n",
    "tbody = table.find_element_by_tag_name(\"tbody\")\n",
    "for i in range(1, len(tbody.find_elements_by_tag_name(\"tr\"))):\n",
    "    rows = tbody.find_elements_by_tag_name(\"tr\")[i]\n",
    "    body= rows.find_elements_by_tag_name(\"td\")\n",
    "    row_data = []\n",
    "    for index, value in enumerate(body):\n",
    "        value_data = value.text\n",
    "        row_data.append(value_data)\n",
    "    data_list.append(row_data)\n",
    "\n",
    "df = pd.DataFrame(data_list)\n",
    "\n",
    "header = df.iloc[0]\n",
    "df = df[1:]\n",
    "\n",
    "df.rename(columns=header, inplace=True)\n",
    "df['날짜'] = df['날짜'].str.replace('\\n', repl=r'')\n",
    "df['날짜'] = df['날짜'].str.split(' ').str[0]\n",
    "df['날짜'] = pd.to_datetime(df['날짜'], format='%Y년%m월%d일')"
   ]
  },
  {
   "cell_type": "code",
   "execution_count": 14,
   "id": "artistic-bench",
   "metadata": {},
   "outputs": [
    {
     "data": {
      "text/html": [
       "<div>\n",
       "<style scoped>\n",
       "    .dataframe tbody tr th:only-of-type {\n",
       "        vertical-align: middle;\n",
       "    }\n",
       "\n",
       "    .dataframe tbody tr th {\n",
       "        vertical-align: top;\n",
       "    }\n",
       "\n",
       "    .dataframe thead th {\n",
       "        text-align: right;\n",
       "    }\n",
       "</style>\n",
       "<table border=\"1\" class=\"dataframe\">\n",
       "  <thead>\n",
       "    <tr style=\"text-align: right;\">\n",
       "      <th></th>\n",
       "      <th>날짜</th>\n",
       "      <th>평균\n",
       "기온</th>\n",
       "      <th>최고\n",
       "기온</th>\n",
       "      <th>최저\n",
       "기온</th>\n",
       "      <th>강수량(mm)</th>\n",
       "      <th>신적설(cm)</th>\n",
       "      <th>평균\n",
       "풍속(m/s)</th>\n",
       "      <th>평균\n",
       "습도\n",
       "(%)</th>\n",
       "      <th>운량(1/10)</th>\n",
       "      <th>일조\n",
       "시간\n",
       "(Hr)</th>\n",
       "      <th>날씨</th>\n",
       "    </tr>\n",
       "  </thead>\n",
       "  <tbody>\n",
       "    <tr>\n",
       "      <th>1</th>\n",
       "      <td>2021-03-01</td>\n",
       "      <td>4.7</td>\n",
       "      <td>9.0</td>\n",
       "      <td>0.5</td>\n",
       "      <td>67.5</td>\n",
       "      <td>2.3</td>\n",
       "      <td>3.4</td>\n",
       "      <td>91</td>\n",
       "      <td>10.0</td>\n",
       "      <td>0.0</td>\n",
       "      <td>흐림/눈/비/진눈개비</td>\n",
       "    </tr>\n",
       "    <tr>\n",
       "      <th>2</th>\n",
       "      <td>2021-03-02</td>\n",
       "      <td>2.3</td>\n",
       "      <td>6.9</td>\n",
       "      <td>0.2</td>\n",
       "      <td>0.1</td>\n",
       "      <td>0.0</td>\n",
       "      <td>1.8</td>\n",
       "      <td>76</td>\n",
       "      <td>5.5</td>\n",
       "      <td>4.7</td>\n",
       "      <td>구름많음/눈</td>\n",
       "    </tr>\n",
       "    <tr>\n",
       "      <th>3</th>\n",
       "      <td>2021-03-03</td>\n",
       "      <td>4.4</td>\n",
       "      <td>9.9</td>\n",
       "      <td>-1.2</td>\n",
       "      <td>-</td>\n",
       "      <td>-</td>\n",
       "      <td>1.8</td>\n",
       "      <td>64</td>\n",
       "      <td>4.5</td>\n",
       "      <td>10.4</td>\n",
       "      <td>구름조금</td>\n",
       "    </tr>\n",
       "    <tr>\n",
       "      <th>4</th>\n",
       "      <td>2021-03-04</td>\n",
       "      <td>7.2</td>\n",
       "      <td>13.0</td>\n",
       "      <td>2.5</td>\n",
       "      <td>-</td>\n",
       "      <td>-</td>\n",
       "      <td>2.0</td>\n",
       "      <td>62</td>\n",
       "      <td>6.2</td>\n",
       "      <td>1.9</td>\n",
       "      <td>구름많음</td>\n",
       "    </tr>\n",
       "    <tr>\n",
       "      <th>5</th>\n",
       "      <td>2021-03-05</td>\n",
       "      <td>8.9</td>\n",
       "      <td>16.2</td>\n",
       "      <td>3.0</td>\n",
       "      <td>-</td>\n",
       "      <td>-</td>\n",
       "      <td>2.0</td>\n",
       "      <td>70</td>\n",
       "      <td>1.2</td>\n",
       "      <td>10.5</td>\n",
       "      <td>맑음</td>\n",
       "    </tr>\n",
       "  </tbody>\n",
       "</table>\n",
       "</div>"
      ],
      "text/plain": [
       "          날짜 평균\\n기온 최고\\n기온 최저\\n기온 강수량(mm) 신적설(cm) 평균\\n풍속(m/s) 평균\\n습도\\n(%)  \\\n",
       "1 2021-03-01    4.7    9.0    0.5    67.5     2.3         3.4          91   \n",
       "2 2021-03-02    2.3    6.9    0.2     0.1     0.0         1.8          76   \n",
       "3 2021-03-03    4.4    9.9   -1.2       -       -         1.8          64   \n",
       "4 2021-03-04    7.2   13.0    2.5       -       -         2.0          62   \n",
       "5 2021-03-05    8.9   16.2    3.0       -       -         2.0          70   \n",
       "\n",
       "  운량(1/10) 일조\\n시간\\n(Hr)           날씨  \n",
       "1     10.0          0.0  흐림/눈/비/진눈개비  \n",
       "2      5.5          4.7       구름많음/눈  \n",
       "3      4.5         10.4         구름조금  \n",
       "4      6.2          1.9         구름많음  \n",
       "5      1.2         10.5           맑음  "
      ]
     },
     "execution_count": 14,
     "metadata": {},
     "output_type": "execute_result"
    }
   ],
   "source": [
    "df.head()\n"
   ]
  },
  {
   "cell_type": "code",
   "execution_count": null,
   "id": "explicit-philosophy",
   "metadata": {},
   "outputs": [],
   "source": []
  }
 ],
 "metadata": {
  "kernelspec": {
   "display_name": "Python 3",
   "language": "python",
   "name": "python3"
  },
  "language_info": {
   "codemirror_mode": {
    "name": "ipython",
    "version": 3
   },
   "file_extension": ".py",
   "mimetype": "text/x-python",
   "name": "python",
   "nbconvert_exporter": "python",
   "pygments_lexer": "ipython3",
   "version": "3.6.3"
  },
  "varInspector": {
   "cols": {
    "lenName": 16,
    "lenType": 16,
    "lenVar": 40
   },
   "kernels_config": {
    "python": {
     "delete_cmd_postfix": "",
     "delete_cmd_prefix": "del ",
     "library": "var_list.py",
     "varRefreshCmd": "print(var_dic_list())"
    },
    "r": {
     "delete_cmd_postfix": ") ",
     "delete_cmd_prefix": "rm(",
     "library": "var_list.r",
     "varRefreshCmd": "cat(var_dic_list()) "
    }
   },
   "types_to_exclude": [
    "module",
    "function",
    "builtin_function_or_method",
    "instance",
    "_Feature"
   ],
   "window_display": false
  }
 },
 "nbformat": 4,
 "nbformat_minor": 5
}
